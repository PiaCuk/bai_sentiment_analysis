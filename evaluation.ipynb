{
 "cells": [
  {
   "cell_type": "markdown",
   "metadata": {},
   "source": [
    "### Run some statistical tests:"
   ]
  },
  {
   "cell_type": "code",
   "execution_count": 2,
   "metadata": {},
   "outputs": [],
   "source": [
    "from scipy.stats import ttest_ind\n",
    "import numpy as np"
   ]
  },
  {
   "cell_type": "code",
   "execution_count": 3,
   "metadata": {},
   "outputs": [],
   "source": [
    "def t_test(data1, data2, equal_var=True):\n",
    "    stat, p = ttest_ind(data1, data2, equal_var=equal_var)\n",
    "    print('Statistics=%.3f, p=%.3f' % (stat, p))\n",
    "    # interpret\n",
    "    alpha = 0.05\n",
    "    if p > alpha:\n",
    "        print('p above significance level (fail to reject H0)')\n",
    "    else:\n",
    "        print('p below significance level (reject H0)')"
   ]
  },
  {
   "cell_type": "code",
   "execution_count": 4,
   "metadata": {},
   "outputs": [],
   "source": [
    "acc1 = np.loadtxt('models/keras_logfile_lstm128.txt', dtype=float)\n",
    "acc2 = np.loadtxt('models/keras_logfile_conv128.txt', dtype=float)"
   ]
  },
  {
   "cell_type": "code",
   "execution_count": 5,
   "metadata": {},
   "outputs": [
    {
     "name": "stdout",
     "output_type": "stream",
     "text": [
      "Statistics=-0.417, p=0.682\n",
      "p above significance level (fail to reject H0)\n"
     ]
    }
   ],
   "source": [
    "t_test(acc1, acc2)"
   ]
  },
  {
   "cell_type": "code",
   "execution_count": 6,
   "metadata": {},
   "outputs": [
    {
     "data": {
      "text/plain": [
       "24.519599999999997"
      ]
     },
     "execution_count": 6,
     "metadata": {},
     "output_type": "execute_result"
    }
   ],
   "source": [
    "acc1.mean()"
   ]
  },
  {
   "cell_type": "code",
   "execution_count": 7,
   "metadata": {},
   "outputs": [
    {
     "data": {
      "text/plain": [
       "24.935099999999995"
      ]
     },
     "execution_count": 7,
     "metadata": {},
     "output_type": "execute_result"
    }
   ],
   "source": [
    "acc2.mean()"
   ]
  },
  {
   "cell_type": "markdown",
   "metadata": {},
   "source": [
    "### Make some nice graphs:"
   ]
  },
  {
   "cell_type": "code",
   "execution_count": 12,
   "metadata": {},
   "outputs": [
    {
     "name": "stdout",
     "output_type": "stream",
     "text": [
      "Confusion Matrix\n",
      "[[0.19272727 0.67636364 0.02909091 0.10181818 0.        ]\n",
      " [0.08225806 0.69193548 0.03064516 0.19354839 0.0016129 ]\n",
      " [0.01851852 0.51587302 0.06878307 0.38095238 0.01587302]\n",
      " [0.0059761  0.19721116 0.05577689 0.58964143 0.15139442]\n",
      " [0.00511509 0.10997442 0.01790281 0.54475703 0.32225064]]\n",
      "Classification Report\n",
      "              precision    recall  f1-score   support\n",
      "\n",
      "           0       0.46      0.19      0.27       275\n",
      "           1       0.45      0.69      0.55       620\n",
      "           2       0.30      0.07      0.11       378\n",
      "           3       0.37      0.59      0.45       502\n",
      "           4       0.60      0.32      0.42       391\n",
      "\n",
      "    accuracy                           0.43      2166\n",
      "   macro avg       0.44      0.37      0.36      2166\n",
      "weighted avg       0.43      0.43      0.39      2166\n",
      "\n"
     ]
    }
   ],
   "source": [
    "from train import class_report\n",
    "confusion = class_report(embedding='new_bert', ckpt='models/new_bert1_weights.10-1.34.hdf5')\n",
    "confusion = np.asarray(confusion)"
   ]
  },
  {
   "cell_type": "code",
   "execution_count": 13,
   "metadata": {},
   "outputs": [
    {
     "data": {
      "image/png": "[encoded data removed]",
      "text/plain": [
       "<Figure size 432x288 with 2 Axes>"
      ]
     },
     "metadata": {
      "needs_background": "light"
     },
     "output_type": "display_data"
    }
   ],
   "source": [
    "import seaborn as sns\n",
    "import matplotlib.pyplot as plt\n",
    "\n",
    "plt.figure(figsize=(6,4))\n",
    "ax = sns.heatmap(np.around(confusion, decimals=2), annot=True, square=True, cmap=sns.color_palette(\"Greys\"))"
   ]
  },
  {
   "cell_type": "code",
   "execution_count": null,
   "metadata": {},
   "outputs": [],
   "source": []
  }
 ],
 "metadata": {
  "kernelspec": {
   "display_name": "keras_env",
   "language": "python",
   "name": "keras_env"
  },
  "language_info": {
   "codemirror_mode": {
    "name": "ipython",
    "version": 3
   },
   "file_extension": ".py",
   "mimetype": "text/x-python",
   "name": "python",
   "nbconvert_exporter": "python",
   "pygments_lexer": "ipython3",
   "version": "3.6.7"
  }
 },
 "nbformat": 4,
 "nbformat_minor": 2
}
