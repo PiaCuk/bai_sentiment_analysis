{
 "cells": [
  {
   "cell_type": "code",
   "execution_count": 1,
   "metadata": {},
   "outputs": [
    {
     "name": "stderr",
     "output_type": "stream",
     "text": [
      "Using TensorFlow backend.\n"
     ]
    }
   ],
   "source": [
    "import numpy as np\n",
    "import seaborn as sns\n",
    "import matplotlib.pyplot as plt\n",
    "import pytreebank\n",
    "from keras_preprocessing.text import text_to_word_sequence\n",
    "from keras.preprocessing.sequence import pad_sequences\n",
    "from bert_embedding import BertEmbedding"
   ]
  },
  {
   "cell_type": "code",
   "execution_count": 2,
   "metadata": {
    "scrolled": true
   },
   "outputs": [],
   "source": [
    "sst_data = pytreebank.load_sst()\n",
    "train = sst_data['train']\n",
    "bert = BertEmbedding()"
   ]
  },
  {
   "cell_type": "code",
   "execution_count": 35,
   "metadata": {
    "scrolled": true
   },
   "outputs": [
    {
     "name": "stdout",
     "output_type": "stream",
     "text": [
      "(23, 768)\n",
      "(22, 768)\n",
      "(22, 768)\n",
      "(20, 768)\n",
      "(8, 768)\n"
     ]
    }
   ],
   "source": [
    "x_list = []\n",
    "y_list = []\n",
    "for t in train[:5]:\n",
    "    y, x = t.to_labeled_lines()[0]\n",
    "    y_list.append(y)\n",
    "    str_list, arr_list = zip(*bert([x]))\n",
    "    x_list.append(np.squeeze(np.asarray(arr_list)))\n",
    "    print(x_list[-1].shape)"
   ]
  },
  {
   "cell_type": "code",
   "execution_count": 36,
   "metadata": {},
   "outputs": [
    {
     "name": "stdout",
     "output_type": "stream",
     "text": [
      "23 8\n"
     ]
    }
   ],
   "source": [
    "len_list = [i.shape[0] for i in x_list]\n",
    "max_len = max(len_list)\n",
    "min_len = min(len_list)\n",
    "print(str(max_len), str(min_len))"
   ]
  },
  {
   "cell_type": "code",
   "execution_count": 37,
   "metadata": {},
   "outputs": [
    {
     "data": {
      "image/png": "[encoded data removed]",
      "text/plain": [
       "<Figure size 432x288 with 1 Axes>"
      ]
     },
     "metadata": {},
     "output_type": "display_data"
    }
   ],
   "source": [
    "sns.set(style=\"whitegrid\")\n",
    "ax = sns.boxplot(data=len_list)\n",
    "plt.show()"
   ]
  },
  {
   "cell_type": "code",
   "execution_count": 38,
   "metadata": {},
   "outputs": [
    {
     "data": {
      "text/plain": [
       "8.48"
      ]
     },
     "execution_count": 38,
     "metadata": {},
     "output_type": "execute_result"
    }
   ],
   "source": [
    "np.percentile(len_list, 1)"
   ]
  },
  {
   "cell_type": "code",
   "execution_count": 40,
   "metadata": {},
   "outputs": [
    {
     "name": "stdout",
     "output_type": "stream",
     "text": [
      "5\n",
      "5\n",
      "(23, 768)\n",
      "(22, 768)\n",
      "(22, 768)\n",
      "(20, 768)\n",
      "(8, 768)\n"
     ]
    },
    {
     "data": {
      "text/plain": [
       "4"
      ]
     },
     "execution_count": 40,
     "metadata": {},
     "output_type": "execute_result"
    }
   ],
   "source": [
    "# filter shortest sentences out\n",
    "print(len(y_list))\n",
    "print(len(x_list))\n",
    "for z in zip(y_list, x_list):\n",
    "    print(z[1].shape)\n",
    "y_x_filtered = [z for z in zip(y_list, x_list) if z[1].shape[0] > 10]\n",
    "y_list, x_list = zip(*y_x_filtered)\n",
    "len(x_list)"
   ]
  },
  {
   "cell_type": "code",
   "execution_count": 41,
   "metadata": {},
   "outputs": [
    {
     "data": {
      "text/plain": [
       "(4, 25, 768)"
      ]
     },
     "execution_count": 41,
     "metadata": {},
     "output_type": "execute_result"
    }
   ],
   "source": [
    "# pad_sequences is only for 1D representations of words! That's why we can't use it with vectors\n",
    "padded = pad_sequences(x_list, maxlen=max_len+2, dtype='float32', padding='post')\n",
    "padded.shape"
   ]
  },
  {
   "cell_type": "code",
   "execution_count": 42,
   "metadata": {
    "scrolled": true
   },
   "outputs": [
    {
     "data": {
      "text/plain": [
       "array([ 1.80278644e-02, -2.00907022e-01,  2.66962230e-01,  7.92737454e-02,\n",
       "        4.62205410e-01, -3.68802875e-01,  7.29660153e-01,  1.55805767e-01,\n",
       "        8.92768025e-01, -1.32665604e-01, -2.04467341e-01,  7.28202760e-02,\n",
       "        1.93984792e-01,  4.86145914e-01,  3.02444011e-01,  1.30711913e-01,\n",
       "       -2.65286744e-01,  3.48616764e-02,  6.13465048e-02,  1.02056861e+00,\n",
       "       -5.12630820e-01,  7.31045127e-01, -1.37157276e-01, -5.29961884e-01,\n",
       "        1.62006572e-01,  2.29670033e-01, -3.72539580e-01,  5.72816491e-01,\n",
       "       -7.69605875e-01,  5.06260991e-01, -1.26137361e-01,  2.13201866e-01,\n",
       "       -3.08229085e-02,  4.32605222e-02, -6.16786599e-01, -2.70177573e-01,\n",
       "        8.03867340e-01, -1.40161395e-01,  1.35342717e-01, -8.19666922e-01,\n",
       "        3.22212636e-01, -2.78932065e-01,  7.31286705e-01,  4.52475995e-01,\n",
       "       -7.58527815e-01, -5.96829206e-02,  6.69355989e-02,  5.00991523e-01,\n",
       "        6.27489448e-01, -2.33609974e-01,  2.47959659e-01,  4.88070309e-01,\n",
       "       -3.24314773e-01, -5.70352852e-01,  2.30349809e-01, -7.28591979e-02,\n",
       "       -1.60751373e-01, -6.26329899e-01,  3.78189832e-01, -1.09900169e-01,\n",
       "        2.68669724e-01,  1.68511823e-01,  3.70814413e-01, -9.87734497e-02,\n",
       "       -5.40849753e-02,  3.30693245e-01,  2.47834697e-01, -2.89736867e-01,\n",
       "       -2.14294046e-01, -8.87451619e-02,  2.89727718e-01,  3.88553321e-01,\n",
       "       -2.22732991e-01, -2.25676805e-01,  3.77658397e-01, -3.65399681e-02,\n",
       "        3.88706923e-01,  7.99641967e-01,  1.65340140e-01,  5.52262664e-01,\n",
       "        2.71460205e-01,  2.64455885e-01,  2.80123949e-01,  3.05259317e-01,\n",
       "       -1.95708543e-01,  1.25576913e-01,  3.01921487e-01,  3.56530607e-01,\n",
       "       -4.40121979e-01,  7.88752794e-01, -3.80251229e-01,  6.80748299e-02,\n",
       "        9.43202674e-02,  4.05818969e-01,  5.70412755e-01, -7.95323014e-01,\n",
       "        1.22870520e-01, -2.22804800e-01,  3.72742265e-01, -5.78852534e-01,\n",
       "        7.45261371e-01, -5.50737202e-01, -3.84387612e-01, -4.96375114e-01,\n",
       "        6.89096972e-02,  1.01528525e-01,  8.73768106e-02, -8.90480429e-02,\n",
       "       -1.67248413e-01, -9.14915949e-02, -1.17065519e-01,  1.74823448e-01,\n",
       "       -2.25826636e-01, -2.09879190e-01,  2.51399159e-01, -1.14149354e-01,\n",
       "        2.00520188e-01, -3.37786019e-01, -2.97167271e-01,  2.25686848e-01,\n",
       "       -8.09749886e-02,  8.23699981e-02, -3.19379270e-01,  3.81649673e-01,\n",
       "        6.82745948e-02, -1.66777745e-01, -2.93656923e-02,  1.86415777e-01,\n",
       "       -3.07295173e-01, -1.82565063e-01,  5.14248848e-01,  3.06189626e-01,\n",
       "        1.00363068e-01, -2.53164291e-01,  2.06735492e-01, -2.05684900e-02,\n",
       "       -4.36876267e-01, -8.66156876e-01, -2.17426151e-01, -1.00993708e-01,\n",
       "        5.40996790e-01, -6.46534935e-02, -3.57480526e-01,  2.20726341e-01,\n",
       "        1.12992965e-01,  3.17890286e-01, -4.11296517e-01,  1.13089144e-01,\n",
       "        8.89909089e-01,  1.74155861e-01, -9.91505310e-02, -1.82004601e-01,\n",
       "       -1.79857090e-01, -1.06347889e-01,  2.63339549e-01,  3.07987064e-01,\n",
       "        9.05360058e-02, -2.50122219e-01,  6.39998257e-01, -3.99139643e-01,\n",
       "        1.21485464e-01, -4.04721618e-01,  3.99523973e-02,  7.05569759e-02,\n",
       "        1.94897488e-01, -8.82081926e-01,  3.53384107e-01, -7.75529295e-02,\n",
       "       -3.80206779e-02, -2.25720078e-01, -3.03739816e-01,  2.68452883e-01,\n",
       "        5.11320233e-02,  4.25071210e-01, -5.46112478e-01,  1.45332858e-01,\n",
       "        2.42577970e-01,  6.56303614e-02,  1.26743451e-01,  2.33437896e-01,\n",
       "       -4.54469800e-01,  3.30150843e-01, -1.50818378e-01,  2.56165683e-01,\n",
       "        4.81723726e-01,  5.75185157e-02,  8.56592774e-01,  5.49847007e-01,\n",
       "        4.48996574e-01,  2.74077863e-01, -1.81911573e-01, -4.52374071e-01,\n",
       "       -1.73689015e-02,  1.39334068e-01,  8.27893376e-01,  6.32340983e-02,\n",
       "       -5.36084235e-01, -2.89605558e-01,  5.36036529e-02,  2.91535050e-01,\n",
       "        1.11467689e-02, -2.90833682e-01,  3.39613438e-01, -3.52962017e-01,\n",
       "       -4.05394703e-01,  8.66170824e-01,  6.54052734e-01,  3.58073711e-02,\n",
       "       -4.36332747e-02, -7.75218010e-01,  5.02342992e-02,  2.44892389e-02,\n",
       "        1.16935857e-02, -4.83110771e-02, -2.01673508e-01,  1.80248931e-01,\n",
       "        1.26932323e-01, -9.06395793e-01,  5.47666475e-02,  1.78281724e-01,\n",
       "        3.08489680e-01, -1.64997995e-01,  1.90089166e-01,  5.03417850e-01,\n",
       "       -3.78381193e-01,  8.59611094e-01,  2.38335282e-01, -4.66287494e-01,\n",
       "        3.58642191e-01,  3.37720513e-01, -2.93261290e-01,  1.12342373e-01,\n",
       "       -3.47378790e-01,  4.12122756e-01,  2.87809297e-02,  1.58442199e-01,\n",
       "        2.55579621e-01, -7.43254274e-03, -3.87489378e-01,  3.60127896e-01,\n",
       "        5.17013147e-02, -3.01212305e-03,  3.91336679e-01,  4.53946054e-01,\n",
       "        4.77720827e-01,  3.26563358e-01,  2.20690012e-01, -4.17024583e-01,\n",
       "       -4.21334207e-01,  4.22513276e-01, -2.34425575e-01, -6.03181005e-01,\n",
       "        1.27748638e-01, -4.57344279e-02,  6.54356956e-01, -1.95334971e-01,\n",
       "       -6.02233000e-02, -3.34399380e-03,  2.90640473e-01, -1.69981331e-01,\n",
       "       -6.81286693e-01, -4.46063995e-01, -1.30454361e-01, -7.80075043e-03,\n",
       "       -5.14428139e-01, -4.38997447e-01, -2.69918889e-01, -1.54974476e-01,\n",
       "        5.66073179e-01,  4.90747511e-01, -2.57948279e-01, -4.97623011e-02,\n",
       "       -3.42284679e-01,  3.68806452e-01, -7.98177063e-01,  3.55399936e-01,\n",
       "        1.49631917e-01, -1.41295001e-01,  2.71726679e-02, -4.96088773e-01,\n",
       "        3.03888649e-01,  2.33408675e-01, -4.68947262e-01,  1.28291473e-01,\n",
       "        2.11013526e-01, -1.59839198e-01, -5.06448485e-02,  6.75208569e-01,\n",
       "       -7.08325952e-02, -3.60530347e-01, -4.75776315e-01,  3.16722393e-01,\n",
       "       -2.41432190e-01, -3.34352881e-01,  3.89094323e-01,  2.40724534e-01,\n",
       "        3.63088638e-01,  1.84906781e-01,  2.13987842e-01,  6.67308390e-01,\n",
       "        3.49066317e-01,  2.07113594e-01, -8.00227970e-02,  5.53627387e-02,\n",
       "        8.13190997e-01,  4.97017354e-01,  2.74221033e-01, -1.17496893e-01,\n",
       "       -5.98346090e+00, -1.16894022e-03,  4.11401913e-02,  1.01482235e-01,\n",
       "        4.73191619e-01,  2.18810111e-01,  1.03538156e-01, -8.06706905e-01,\n",
       "       -2.75835812e-01, -1.63263232e-02, -4.06902283e-01,  5.25029957e-01,\n",
       "        2.94089347e-01,  2.32501388e-01,  4.26609844e-01, -6.79267198e-03,\n",
       "        4.48898137e-01,  1.72236100e-01,  1.44381553e-01,  8.08312356e-01,\n",
       "        1.58707380e-01, -5.41399360e-01, -1.71874657e-01, -8.06928053e-02,\n",
       "        1.81126475e-01,  4.66645777e-01, -1.04918107e-01,  1.94792286e-01,\n",
       "        1.05454363e-02, -3.28611672e-01, -6.03514552e-01,  4.46088940e-01,\n",
       "        4.64442581e-01, -2.93591172e-01,  8.83568898e-02, -1.69668257e-01,\n",
       "       -1.47959515e-02, -2.33844772e-01,  5.73659420e-01, -4.46310341e-01,\n",
       "        6.28225133e-02, -3.72711241e-01, -2.06381440e-01,  1.74392343e-01,\n",
       "       -2.41961837e-01, -4.03349161e-01, -3.43191147e-01, -4.78935510e-01,\n",
       "        1.57785863e-01,  6.45285428e-01,  8.12894255e-02, -1.34604815e-02,\n",
       "        4.39953059e-04,  5.89708865e-01,  2.83719838e-01, -2.79686674e-02,\n",
       "       -3.20154548e-01,  6.15350962e-01, -4.27605003e-01, -2.54500955e-02,\n",
       "       -5.39219901e-02,  1.90123424e-01, -5.35964310e-01, -1.93004146e-01,\n",
       "        2.09714323e-02, -4.96402197e-02,  1.90198526e-01, -6.76956892e-01,\n",
       "        1.37648210e-01, -2.44131014e-01, -6.95650697e-01, -1.50848001e-01,\n",
       "       -9.77360606e-02, -7.64971435e-01, -1.10461414e-01, -1.37211736e-02,\n",
       "        6.52722180e-01,  2.44886428e-01, -3.90016735e-01, -1.83941320e-01,\n",
       "       -1.67416349e-01, -4.92431223e-01,  3.82487774e-01, -1.37056187e-02,\n",
       "        3.34701508e-01, -7.75422901e-02,  1.63872883e-01,  3.55206966e-01,\n",
       "        1.82091966e-01,  2.67296955e-02,  2.97648340e-01, -2.08754987e-01,\n",
       "       -8.83425474e-02, -4.04796571e-01,  2.49966025e-01, -9.04991925e-02,\n",
       "       -1.18089788e-01, -3.92044753e-01,  4.42471445e-01,  5.28136075e-01,\n",
       "        2.55200118e-01, -4.11780298e-01, -8.50134343e-02, -2.31725320e-01,\n",
       "       -4.46767032e-01, -2.88678825e-01,  9.64641795e-02, -2.40744367e-01,\n",
       "        1.14914225e-02,  2.16151536e-01,  2.73665879e-03,  3.19340765e-01,\n",
       "       -3.79313678e-01, -4.04547691e-01, -9.16878656e-02,  3.53042692e-01,\n",
       "        3.69211510e-02,  1.48164421e-01, -2.88683176e-02,  1.26028165e-01,\n",
       "        2.83186406e-01,  9.90562513e-03, -1.74169451e-01, -5.57685137e-01,\n",
       "        9.17613506e-03, -7.90943205e-03,  3.80287051e-01,  5.04513443e-01,\n",
       "       -6.44548684e-02, -4.33535963e-01, -4.03983146e-01, -7.67454505e-02,\n",
       "        6.40553795e-03,  5.79187274e-01,  6.45451128e-01,  3.36618423e-01,\n",
       "       -1.34030491e-01, -2.29857892e-01, -2.11439699e-01, -1.85544610e-01,\n",
       "        1.60241440e-01,  2.20023885e-01, -1.95266847e-02,  9.37610626e-01,\n",
       "       -1.43946245e-01, -1.87351555e-01,  3.72230262e-02, -3.68592829e-01,\n",
       "       -5.08183956e-01,  2.66456485e-01,  2.46428587e-02, -2.98057318e-01,\n",
       "        3.62057388e-01, -3.97536516e-01, -3.61577004e-01,  2.10866779e-01,\n",
       "       -1.73405036e-01, -3.66803780e-02, -2.55685389e-01, -2.64540404e-01,\n",
       "        5.23228794e-02, -9.18109059e-01, -3.93355012e-01,  2.75214136e-01,\n",
       "        2.33886406e-01,  7.10176110e-01, -3.84775877e-01, -1.50334552e-01,\n",
       "        5.60794950e-01,  1.74111500e-01, -1.15535796e-01, -1.85179502e-01,\n",
       "       -3.59503210e-01,  5.48960194e-02, -5.56238711e-01,  9.47575569e-02,\n",
       "       -3.73541147e-01, -4.20637637e-01, -8.31563994e-02,  6.51739597e-01,\n",
       "        3.37446958e-01,  9.40202832e-01,  5.77463070e-03,  1.51494548e-01,\n",
       "       -3.45479906e-01, -4.94955927e-01, -1.55091435e-01,  1.37864068e-01,\n",
       "       -3.87387574e-01,  6.21898830e-01,  1.96796432e-02,  4.61645216e-01,\n",
       "       -3.06685001e-01, -4.53877263e-02, -2.35140517e-01, -3.04877639e-01,\n",
       "        2.26884305e-01,  1.09466004e+00,  2.65198171e-01,  3.24373126e-01,\n",
       "       -8.41745079e-01, -2.79025108e-01,  1.24022998e-01, -1.11959279e-01,\n",
       "        1.68556154e-01, -4.23905790e-01,  3.37212622e-01, -5.52251577e-01,\n",
       "       -1.82884559e-01,  1.39563344e-03, -5.49093008e-01, -2.31012315e-01,\n",
       "       -3.86749178e-01, -5.30021250e-01,  6.41457289e-02, -1.67969495e-01,\n",
       "       -3.99853885e-01, -4.52874810e-01, -2.93222636e-01,  2.46065155e-01,\n",
       "        3.13745737e-01,  1.66203916e-01, -9.42088515e-02, -4.53228116e-01,\n",
       "        4.55816567e-01, -1.06999524e-01,  4.45773393e-01,  2.63084263e-01,\n",
       "       -2.91130722e-01,  1.14991322e-01,  1.90416560e-01, -4.17925060e-01,\n",
       "        2.53352761e-01,  1.41535699e-01, -3.98483425e-01, -5.17784432e-02,\n",
       "       -8.55878741e-02,  4.83110622e-02, -2.87742496e-01, -4.84218925e-01,\n",
       "        3.07475984e-01, -1.16899997e-01, -5.75557649e-01, -1.19654946e-01,\n",
       "       -5.56771874e-01, -1.47600010e-01,  9.43603739e-02,  7.13073313e-01,\n",
       "       -3.02671373e-01, -2.13848963e-01,  2.15814322e-01,  9.82901901e-02,\n",
       "       -2.91014165e-01, -5.98449469e-01,  7.82368928e-02,  3.74991477e-01,\n",
       "       -1.33996755e-01,  6.68760240e-02,  3.18776816e-01, -3.27005625e-01,\n",
       "        5.35260499e-01, -2.62643516e-01, -2.34789476e-01,  1.00203089e-01,\n",
       "       -3.74566615e-01, -2.23308146e-01, -8.03805888e-02, -7.03116238e-01,\n",
       "        3.74848962e-01, -5.59513569e-01, -2.77286619e-01, -6.99059963e-01,\n",
       "       -4.66436706e-02, -2.82655120e-01, -7.24487007e-01, -3.89261961e-01,\n",
       "       -4.91520405e-01,  5.63400909e-02,  1.68619648e-01, -2.65045315e-01,\n",
       "       -5.71390688e-01,  1.01634145e+00, -5.89027524e-01, -4.13864434e-01,\n",
       "       -5.80191791e-01,  8.24593529e-02,  9.48702693e-02,  2.53103673e-03,\n",
       "        2.21618548e-01, -2.50138938e-01, -9.77416933e-02,  5.35514176e-01,\n",
       "        8.12882483e-02, -3.56090456e-01,  7.90665984e-01, -3.82674187e-01,\n",
       "        5.38739622e-01,  1.12798661e-01,  4.56245601e-01,  8.24252069e-01,\n",
       "       -4.13245976e-01, -1.83385387e-01,  2.06960276e-01, -4.71742332e-01,\n",
       "       -1.08793378e-01,  1.21843971e-01,  4.46891546e-01,  6.27345517e-02,\n",
       "       -3.86364847e-01,  4.43866104e-01, -2.90645480e-01,  3.52839559e-01,\n",
       "       -3.11984479e-01,  1.50671363e-01,  9.75712389e-03, -9.17398930e-01,\n",
       "        7.23390698e-01, -1.26120538e-01, -1.08894236e-01,  1.66225567e-01,\n",
       "       -2.74620622e-01, -3.27617645e-01,  8.10564637e-01,  1.24085523e-01,\n",
       "       -2.69256458e-02,  6.89943582e-02, -4.20526505e-01,  2.57911295e-01,\n",
       "        3.68471324e-01, -4.01828408e-01,  3.25200289e-01,  7.58588016e-01,\n",
       "       -5.49685135e-02,  4.88280982e-01,  2.17184916e-01, -3.31628352e-01,\n",
       "        6.75135612e-01,  4.75265384e-01, -2.85330027e-01, -1.17745735e-01,\n",
       "       -1.06173418e-01,  1.97259307e-01, -9.27651942e-01,  4.02869761e-01,\n",
       "       -1.18551534e-02, -2.61048853e-01, -1.96683370e-02, -5.21337271e-01,\n",
       "        2.20786966e-02,  1.82840034e-01,  5.19377232e-01, -1.53692409e-01,\n",
       "       -3.95415202e-02, -5.77071428e-01,  2.80907720e-01, -1.37504525e-02,\n",
       "       -7.24202871e-01,  6.26700446e-02, -3.50385934e-01,  7.01810539e-01,\n",
       "       -3.02376866e-01, -8.09275359e-02,  2.22881302e-01,  4.65703309e-01,\n",
       "       -5.35310924e-01,  1.20573223e-01, -8.45806718e-01, -5.36875911e-02,\n",
       "        6.45080507e-02, -1.26448825e-01,  8.99572790e-01, -2.55385876e-01,\n",
       "       -2.47851610e-01, -1.60526782e-01,  1.33585438e-01, -2.34798074e-01,\n",
       "        2.44574249e-01, -1.72394842e-01, -4.97831330e-02,  4.05625075e-01,\n",
       "        7.27404416e-01, -1.15616836e-01, -3.93702894e-01, -1.96726382e-01,\n",
       "        1.97350636e-01, -3.41126859e-01,  7.43191838e-02,  1.83278054e-01,\n",
       "       -3.88643444e-01, -2.48567373e-01,  6.49782419e-02, -2.18697116e-01,\n",
       "       -8.91673326e-01,  3.94823194e-01, -5.99629879e-02, -6.50431573e-01,\n",
       "        1.60031617e-02, -3.97973150e-01, -6.38925672e-01, -6.86802864e-02,\n",
       "       -3.20749283e-01,  5.29085755e-01, -2.56266475e-01, -3.76699388e-01,\n",
       "        8.05749819e-02, -4.46835756e-02,  2.36514658e-01, -1.01578109e-01,\n",
       "       -4.04179573e-01,  4.45263565e-01,  3.43846679e-01,  3.13969664e-02,\n",
       "       -1.13187060e-02,  6.43880293e-02, -3.61415684e-01, -2.56636173e-01,\n",
       "        2.38293931e-01, -2.90170666e-02,  7.17911005e-01, -7.31497407e-01,\n",
       "       -1.16649523e-01,  2.82387137e-01, -1.90787286e-01, -2.14721918e-01,\n",
       "       -2.19418362e-01, -2.56334126e-01,  1.54213578e-01,  3.18521410e-01,\n",
       "       -4.89184856e-01, -2.38804314e-02,  2.14634016e-01, -5.22869229e-01,\n",
       "        2.31785491e-01,  4.11408007e-01, -1.71095490e-01, -9.81520891e-01,\n",
       "       -2.15870053e-01,  4.15394366e-01, -3.81574243e-01, -2.81981170e-01,\n",
       "        6.37791306e-02, -1.37298211e-01, -1.45823628e-01,  3.47608417e-01,\n",
       "       -2.20315725e-01, -4.89686579e-01, -3.52174789e-01, -1.12720333e-01,\n",
       "       -4.29165184e-01,  3.00137848e-01, -7.28897303e-02, -1.72504604e-01,\n",
       "        5.61665416e-01, -1.40977040e-01,  2.15446770e-01,  7.82500952e-03,\n",
       "       -1.53577223e-01,  1.88500747e-01,  5.16211987e-01, -1.30860358e-01],\n",
       "      dtype=float32)"
      ]
     },
     "execution_count": 42,
     "metadata": {},
     "output_type": "execute_result"
    }
   ],
   "source": [
    "padded[0][1]"
   ]
  },
  {
   "cell_type": "code",
   "execution_count": 43,
   "metadata": {
    "scrolled": true
   },
   "outputs": [
    {
     "data": {
      "text/plain": [
       "array([0., 0., 0., 0., 0., 0., 0., 0., 0., 0., 0., 0., 0., 0., 0., 0., 0.,\n",
       "       0., 0., 0., 0., 0., 0., 0., 0., 0., 0., 0., 0., 0., 0., 0., 0., 0.,\n",
       "       0., 0., 0., 0., 0., 0., 0., 0., 0., 0., 0., 0., 0., 0., 0., 0., 0.,\n",
       "       0., 0., 0., 0., 0., 0., 0., 0., 0., 0., 0., 0., 0., 0., 0., 0., 0.,\n",
       "       0., 0., 0., 0., 0., 0., 0., 0., 0., 0., 0., 0., 0., 0., 0., 0., 0.,\n",
       "       0., 0., 0., 0., 0., 0., 0., 0., 0., 0., 0., 0., 0., 0., 0., 0., 0.,\n",
       "       0., 0., 0., 0., 0., 0., 0., 0., 0., 0., 0., 0., 0., 0., 0., 0., 0.,\n",
       "       0., 0., 0., 0., 0., 0., 0., 0., 0., 0., 0., 0., 0., 0., 0., 0., 0.,\n",
       "       0., 0., 0., 0., 0., 0., 0., 0., 0., 0., 0., 0., 0., 0., 0., 0., 0.,\n",
       "       0., 0., 0., 0., 0., 0., 0., 0., 0., 0., 0., 0., 0., 0., 0., 0., 0.,\n",
       "       0., 0., 0., 0., 0., 0., 0., 0., 0., 0., 0., 0., 0., 0., 0., 0., 0.,\n",
       "       0., 0., 0., 0., 0., 0., 0., 0., 0., 0., 0., 0., 0., 0., 0., 0., 0.,\n",
       "       0., 0., 0., 0., 0., 0., 0., 0., 0., 0., 0., 0., 0., 0., 0., 0., 0.,\n",
       "       0., 0., 0., 0., 0., 0., 0., 0., 0., 0., 0., 0., 0., 0., 0., 0., 0.,\n",
       "       0., 0., 0., 0., 0., 0., 0., 0., 0., 0., 0., 0., 0., 0., 0., 0., 0.,\n",
       "       0., 0., 0., 0., 0., 0., 0., 0., 0., 0., 0., 0., 0., 0., 0., 0., 0.,\n",
       "       0., 0., 0., 0., 0., 0., 0., 0., 0., 0., 0., 0., 0., 0., 0., 0., 0.,\n",
       "       0., 0., 0., 0., 0., 0., 0., 0., 0., 0., 0., 0., 0., 0., 0., 0., 0.,\n",
       "       0., 0., 0., 0., 0., 0., 0., 0., 0., 0., 0., 0., 0., 0., 0., 0., 0.,\n",
       "       0., 0., 0., 0., 0., 0., 0., 0., 0., 0., 0., 0., 0., 0., 0., 0., 0.,\n",
       "       0., 0., 0., 0., 0., 0., 0., 0., 0., 0., 0., 0., 0., 0., 0., 0., 0.,\n",
       "       0., 0., 0., 0., 0., 0., 0., 0., 0., 0., 0., 0., 0., 0., 0., 0., 0.,\n",
       "       0., 0., 0., 0., 0., 0., 0., 0., 0., 0., 0., 0., 0., 0., 0., 0., 0.,\n",
       "       0., 0., 0., 0., 0., 0., 0., 0., 0., 0., 0., 0., 0., 0., 0., 0., 0.,\n",
       "       0., 0., 0., 0., 0., 0., 0., 0., 0., 0., 0., 0., 0., 0., 0., 0., 0.,\n",
       "       0., 0., 0., 0., 0., 0., 0., 0., 0., 0., 0., 0., 0., 0., 0., 0., 0.,\n",
       "       0., 0., 0., 0., 0., 0., 0., 0., 0., 0., 0., 0., 0., 0., 0., 0., 0.,\n",
       "       0., 0., 0., 0., 0., 0., 0., 0., 0., 0., 0., 0., 0., 0., 0., 0., 0.,\n",
       "       0., 0., 0., 0., 0., 0., 0., 0., 0., 0., 0., 0., 0., 0., 0., 0., 0.,\n",
       "       0., 0., 0., 0., 0., 0., 0., 0., 0., 0., 0., 0., 0., 0., 0., 0., 0.,\n",
       "       0., 0., 0., 0., 0., 0., 0., 0., 0., 0., 0., 0., 0., 0., 0., 0., 0.,\n",
       "       0., 0., 0., 0., 0., 0., 0., 0., 0., 0., 0., 0., 0., 0., 0., 0., 0.,\n",
       "       0., 0., 0., 0., 0., 0., 0., 0., 0., 0., 0., 0., 0., 0., 0., 0., 0.,\n",
       "       0., 0., 0., 0., 0., 0., 0., 0., 0., 0., 0., 0., 0., 0., 0., 0., 0.,\n",
       "       0., 0., 0., 0., 0., 0., 0., 0., 0., 0., 0., 0., 0., 0., 0., 0., 0.,\n",
       "       0., 0., 0., 0., 0., 0., 0., 0., 0., 0., 0., 0., 0., 0., 0., 0., 0.,\n",
       "       0., 0., 0., 0., 0., 0., 0., 0., 0., 0., 0., 0., 0., 0., 0., 0., 0.,\n",
       "       0., 0., 0., 0., 0., 0., 0., 0., 0., 0., 0., 0., 0., 0., 0., 0., 0.,\n",
       "       0., 0., 0., 0., 0., 0., 0., 0., 0., 0., 0., 0., 0., 0., 0., 0., 0.,\n",
       "       0., 0., 0., 0., 0., 0., 0., 0., 0., 0., 0., 0., 0., 0., 0., 0., 0.,\n",
       "       0., 0., 0., 0., 0., 0., 0., 0., 0., 0., 0., 0., 0., 0., 0., 0., 0.,\n",
       "       0., 0., 0., 0., 0., 0., 0., 0., 0., 0., 0., 0., 0., 0., 0., 0., 0.,\n",
       "       0., 0., 0., 0., 0., 0., 0., 0., 0., 0., 0., 0., 0., 0., 0., 0., 0.,\n",
       "       0., 0., 0., 0., 0., 0., 0., 0., 0., 0., 0., 0., 0., 0., 0., 0., 0.,\n",
       "       0., 0., 0., 0., 0., 0., 0., 0., 0., 0., 0., 0., 0., 0., 0., 0., 0.,\n",
       "       0., 0., 0.], dtype=float32)"
      ]
     },
     "execution_count": 43,
     "metadata": {},
     "output_type": "execute_result"
    }
   ],
   "source": [
    "padded[0][-1]"
   ]
  },
  {
   "cell_type": "code",
   "execution_count": 44,
   "metadata": {
    "scrolled": true
   },
   "outputs": [
    {
     "data": {
      "text/plain": [
       "(25, 768)"
      ]
     },
     "execution_count": 44,
     "metadata": {},
     "output_type": "execute_result"
    }
   ],
   "source": [
    "padded[0].shape"
   ]
  },
  {
   "cell_type": "code",
   "execution_count": 45,
   "metadata": {
    "scrolled": false
   },
   "outputs": [
    {
     "name": "stdout",
     "output_type": "stream",
     "text": [
      "(25, 768)\n",
      "(25, 768)\n",
      "(25, 768)\n",
      "(25, 768)\n",
      "(4, 25, 768)\n",
      "(4,)\n"
     ]
    }
   ],
   "source": [
    "for i in padded:\n",
    "    print(i.shape)\n",
    "x_arr = np.asarray(padded)\n",
    "y_arr = np.asarray(y_list)\n",
    "print(x_arr.shape)\n",
    "print(y_arr.shape)"
   ]
  },
  {
   "cell_type": "markdown",
   "metadata": {},
   "source": [
    "### A few of the things I tried that didn't work"
   ]
  },
  {
   "cell_type": "code",
   "execution_count": null,
   "metadata": {},
   "outputs": [],
   "source": [
    "def np_pad(sequences, shape):\n",
    "    padded = np.zeros(shape)\n",
    "    for s in sequences:\n",
    "        padded = np.zeros(shape)\n",
    "        padded[:s.shape[0],:s.shape[1]] = s"
   ]
  },
  {
   "cell_type": "code",
   "execution_count": null,
   "metadata": {},
   "outputs": [],
   "source": [
    "# for np.pad() you cannot specify a desired shape, it will always add a constant number of zeros\n",
    "for i in x_list:\n",
    "    i = np.pad(i, (25, 768), 'constant')\n",
    "    print(i.shape)"
   ]
  },
  {
   "cell_type": "code",
   "execution_count": null,
   "metadata": {},
   "outputs": [],
   "source": []
  }
 ],
 "metadata": {
  "kernelspec": {
   "display_name": "keras_env",
   "language": "python",
   "name": "keras_env"
  },
  "language_info": {
   "codemirror_mode": {
    "name": "ipython",
    "version": 3
   },
   "file_extension": ".py",
   "mimetype": "text/x-python",
   "name": "python",
   "nbconvert_exporter": "python",
   "pygments_lexer": "ipython3",
   "version": "3.6.7"
  }
 },
 "nbformat": 4,
 "nbformat_minor": 2
}
