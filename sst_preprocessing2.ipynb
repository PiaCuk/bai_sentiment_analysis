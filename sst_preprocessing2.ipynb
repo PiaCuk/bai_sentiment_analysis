{
 "cells": [
  {
   "cell_type": "code",
   "execution_count": 1,
   "metadata": {},
   "outputs": [
    {
     "name": "stderr",
     "output_type": "stream",
     "text": [
      "Using TensorFlow backend.\n"
     ]
    }
   ],
   "source": [
    "import numpy as np\n",
    "import seaborn as sns\n",
    "import matplotlib.pyplot as plt\n",
    "import pytreebank\n",
    "from keras_preprocessing.text import text_to_word_sequence\n",
    "from keras.preprocessing.sequence import pad_sequences\n",
    "from bert_embedding import BertEmbedding"
   ]
  },
  {
   "cell_type": "code",
   "execution_count": 2,
   "metadata": {
    "scrolled": true
   },
   "outputs": [
    {
     "name": "stdout",
     "output_type": "stream",
     "text": [
      "(8544,)\n",
      "(8544,)\n"
     ]
    }
   ],
   "source": [
    "x_train = np.load('data/x_train_tokenized.npy', allow_pickle=True)\n",
    "y_train = np.load('data/y_train_int.npy', allow_pickle=True)\n",
    "print(x_train.shape)\n",
    "print(y_train.shape)"
   ]
  },
  {
   "cell_type": "code",
   "execution_count": 3,
   "metadata": {},
   "outputs": [
    {
     "name": "stdout",
     "output_type": "stream",
     "text": [
      "49 1\n"
     ]
    }
   ],
   "source": [
    "len_list = [len(i) for i in x_train]\n",
    "max_len = max(len_list)\n",
    "min_len = min(len_list)\n",
    "print(str(max_len), str(min_len))"
   ]
  },
  {
   "cell_type": "code",
   "execution_count": 4,
   "metadata": {
    "scrolled": true
   },
   "outputs": [
    {
     "data": {
      "image/png": "[encoded data removed]",
      "text/plain": [
       "<Figure size 432x288 with 1 Axes>"
      ]
     },
     "metadata": {},
     "output_type": "display_data"
    }
   ],
   "source": [
    "sns.set(style=\"whitegrid\")\n",
    "ax = sns.boxplot(data=len_list)\n",
    "plt.show()"
   ]
  },
  {
   "cell_type": "code",
   "execution_count": 6,
   "metadata": {},
   "outputs": [
    {
     "data": {
      "text/plain": [
       "2.0"
      ]
     },
     "execution_count": 6,
     "metadata": {},
     "output_type": "execute_result"
    }
   ],
   "source": [
    "np.percentile(len_list, 1)"
   ]
  },
  {
   "cell_type": "code",
   "execution_count": 7,
   "metadata": {},
   "outputs": [
    {
     "data": {
      "text/plain": [
       "40.0"
      ]
     },
     "execution_count": 7,
     "metadata": {},
     "output_type": "execute_result"
    }
   ],
   "source": [
    "np.percentile(len_list, 99)"
   ]
  },
  {
   "cell_type": "code",
   "execution_count": 9,
   "metadata": {},
   "outputs": [
    {
     "name": "stdout",
     "output_type": "stream",
     "text": [
      "['chomp', 'chomp']\n",
      "['cool']\n",
      "['imperfect']\n",
      "['go']\n",
      "['amazing']\n",
      "['who', 'knew']\n",
      "['bring', 'tissues']\n",
      "['otherwise', 'maybe']\n",
      "['insanely', 'hilarious']\n",
      "['why']\n",
      "['and', 'how']\n",
      "['who', 'cares']\n",
      "['ok', 'arthouse']\n",
      "['a']\n",
      "[\"c'mon\"]\n",
      "['renner']\n",
      "['see', 'it']\n",
      "['great', 'dragons']\n",
      "['funny', 'though']\n",
      "['bon', 'appétit']\n",
      "['adam', 'sandler']\n",
      "['buy', 'popcorn']\n",
      "['or', 'both']\n",
      "['and', 'educational']\n",
      "['oh', 'james']\n",
      "['yes', 'soar']\n",
      "['hey', 'happy']\n",
      "['almost']\n",
      "['wow']\n",
      "['no', 'laughs']\n",
      "['or', 'intelligent']\n",
      "['bond', 'inspired']\n",
      "['certainly']\n",
      "['big', 'time']\n",
      "['ruh', 'roh']\n",
      "['a', 'drama']\n",
      "['a', 'romance']\n",
      "['a', 'cartoon']\n",
      "['yes']\n",
      "['no']\n",
      "['horrible']\n",
      "['ending']\n",
      "['he', 'fails']\n",
      "['a', 'mess']\n",
      "['thumbs', 'down']\n",
      "['into', 'scrooge']\n",
      "['too', 'bad']\n",
      "['no', 'thanks']\n",
      "['quelle', 'surprise']\n",
      "['bravado', 'kathy']\n",
      "['too', 'bad']\n",
      "['action', 'mechanical']\n",
      "['but', 'no']\n",
      "['for', 'free']\n",
      "['just', 'dreadful']\n",
      "['bang']\n",
      "['zoom']\n",
      "['big', 'mistake']\n",
      "['um', 'no']\n",
      "['disturbing']\n",
      "['disgusting']\n",
      "['spy', 'vs']\n",
      "['hey', 'arnold']\n",
      "['that', 'works']\n",
      "['i', 'survived']\n",
      "['absolutely', 'not']\n",
      "['it', 'sucked']\n",
      "['the', 'script']\n",
      "['please']\n",
      "['spiderman', 'rocks']\n",
      "['thoroughly', 'enjoyable']\n",
      "['family', 'fare']\n",
      "['compellingly', 'watchable']\n",
      "['often', 'hilarious']\n",
      "['psychologically', 'savvy']\n",
      "['delightfully', 'rendered']\n",
      "['highly', 'engaging']\n",
      "['beautifully', 'produced']\n",
      "['psychologically', 'revealing']\n",
      "['surprisingly', 'insightful']\n",
      "['visually', 'captivating']\n",
      "['touché']\n",
      "['refreshing']\n",
      "['see', 'it']\n",
      "['debate', 'it']\n",
      "['remember', 'it']\n",
      "['morvern', 'rocks']\n",
      "['genuinely', 'unnerving']\n",
      "['deliciously', 'slow']\n",
      "['exciting', 'documentary']\n",
      "['quite', 'endearing']\n",
      "['harmless', 'fun']\n",
      "['oddly', 'compelling']\n",
      "['weird']\n",
      "['rewarding']\n",
      "['fantastic']\n",
      "['delirious', 'fun']\n",
      "['poetic', 'heartbreaking']\n",
      "['quietly', 'engaging']\n",
      "['hypnotically', 'dull']\n",
      "['calculated', 'swill']\n",
      "['thoroughly', 'awful']\n",
      "['truly', 'terrible']\n",
      "['bad', 'company']\n",
      "['bad', 'movie']\n",
      "['execrable']\n",
      "['amazingly', 'dopey']\n",
      "['crikey', 'indeed']\n",
      "['obvious']\n",
      "['cinematic', 'poo']\n",
      "['overly', 'melodramatic']\n",
      "['extremely', 'bad']\n",
      "['teens', 'only']\n",
      "['woefully', 'pretentious']\n",
      "['lacks', 'depth']\n",
      "['unwieldy', 'contraption']\n",
      "['feeble', 'comedy']\n",
      "['salaciously', 'simplistic']\n",
      "['shallow']\n",
      "['disjointed', 'parody']\n",
      "['silly', 'humbuggery']\n",
      "['eh']\n",
      "['painfully', 'padded']\n",
      "['anemic', 'pretentious']\n",
      "['a', 'mess']\n",
      "['dramatically', 'lackluster']\n",
      "['stay', 'away']\n",
      "['far', 'away']\n",
      "['incoherence', 'reigns']\n",
      "['abysmally', 'pathetic']\n",
      "['unbearably', 'lame']\n",
      "['mildly', 'amusing']\n",
      "['mildly', 'entertaining']\n",
      "['terrible']\n",
      "['crummy']\n",
      "['wishy', 'washy']\n",
      "['insufferably', 'naive']\n",
      "['amazingly', 'lame']\n",
      "['a', 'slummer']\n",
      "['predictably', 'melodramatic']\n",
      "['bearable']\n",
      "['barely']\n",
      "['no', 'surprises']\n"
     ]
    }
   ],
   "source": [
    "for x in x_train:\n",
    "    if len(x) < 3:\n",
    "        print(x)"
   ]
  },
  {
   "cell_type": "code",
   "execution_count": 12,
   "metadata": {},
   "outputs": [
    {
     "name": "stdout",
     "output_type": "stream",
     "text": [
      "8544\n",
      "8544\n"
     ]
    },
    {
     "data": {
      "text/plain": [
       "8302"
      ]
     },
     "execution_count": 12,
     "metadata": {},
     "output_type": "execute_result"
    }
   ],
   "source": [
    "# filter shortest sentences out\n",
    "print(len(y_train))\n",
    "print(len(x_train))\n",
    "y_x_filtered = [z for z in zip(y_train, x_train) if len(z[1]) > 2 and len(z[1]) < 40]\n",
    "y_list, x_list = zip(*y_x_filtered)\n",
    "len(x_list)"
   ]
  },
  {
   "cell_type": "markdown",
   "metadata": {},
   "source": [
    "### The below works for tokenized, i.e. numeric vectors, saved as numpy arrays"
   ]
  },
  {
   "cell_type": "code",
   "execution_count": 13,
   "metadata": {},
   "outputs": [
    {
     "ename": "ValueError",
     "evalue": "could not convert string to float: 'the'",
     "output_type": "error",
     "traceback": [
      "\u001b[1;31m---------------------------------------------------------------------------\u001b[0m",
      "\u001b[1;31mValueError\u001b[0m                                Traceback (most recent call last)",
      "\u001b[1;32m<ipython-input-13-44d7729fade7>\u001b[0m in \u001b[0;36m<module>\u001b[1;34m\u001b[0m\n\u001b[0;32m      1\u001b[0m \u001b[1;31m# pad_sequences is only for 1D representations of words! That's why we can't use it with vectors\u001b[0m\u001b[1;33m\u001b[0m\u001b[1;33m\u001b[0m\u001b[1;33m\u001b[0m\u001b[0m\n\u001b[1;32m----> 2\u001b[1;33m \u001b[0mpadded\u001b[0m \u001b[1;33m=\u001b[0m \u001b[0mpad_sequences\u001b[0m\u001b[1;33m(\u001b[0m\u001b[0mx_list\u001b[0m\u001b[1;33m,\u001b[0m \u001b[0mmaxlen\u001b[0m\u001b[1;33m=\u001b[0m\u001b[1;36m40\u001b[0m\u001b[1;33m,\u001b[0m \u001b[0mdtype\u001b[0m\u001b[1;33m=\u001b[0m\u001b[1;34m'float32'\u001b[0m\u001b[1;33m,\u001b[0m \u001b[0mpadding\u001b[0m\u001b[1;33m=\u001b[0m\u001b[1;34m'post'\u001b[0m\u001b[1;33m)\u001b[0m\u001b[1;33m\u001b[0m\u001b[1;33m\u001b[0m\u001b[0m\n\u001b[0m\u001b[0;32m      3\u001b[0m \u001b[0mpadded\u001b[0m\u001b[1;33m.\u001b[0m\u001b[0mshape\u001b[0m\u001b[1;33m\u001b[0m\u001b[1;33m\u001b[0m\u001b[0m\n",
      "\u001b[1;32m~\\Anaconda3\\envs\\keras_env\\lib\\site-packages\\keras_preprocessing\\sequence.py\u001b[0m in \u001b[0;36mpad_sequences\u001b[1;34m(sequences, maxlen, dtype, padding, truncating, value)\u001b[0m\n\u001b[0;32m     94\u001b[0m \u001b[1;33m\u001b[0m\u001b[0m\n\u001b[0;32m     95\u001b[0m         \u001b[1;31m# check `trunc` has expected shape\u001b[0m\u001b[1;33m\u001b[0m\u001b[1;33m\u001b[0m\u001b[1;33m\u001b[0m\u001b[0m\n\u001b[1;32m---> 96\u001b[1;33m         \u001b[0mtrunc\u001b[0m \u001b[1;33m=\u001b[0m \u001b[0mnp\u001b[0m\u001b[1;33m.\u001b[0m\u001b[0masarray\u001b[0m\u001b[1;33m(\u001b[0m\u001b[0mtrunc\u001b[0m\u001b[1;33m,\u001b[0m \u001b[0mdtype\u001b[0m\u001b[1;33m=\u001b[0m\u001b[0mdtype\u001b[0m\u001b[1;33m)\u001b[0m\u001b[1;33m\u001b[0m\u001b[1;33m\u001b[0m\u001b[0m\n\u001b[0m\u001b[0;32m     97\u001b[0m         \u001b[1;32mif\u001b[0m \u001b[0mtrunc\u001b[0m\u001b[1;33m.\u001b[0m\u001b[0mshape\u001b[0m\u001b[1;33m[\u001b[0m\u001b[1;36m1\u001b[0m\u001b[1;33m:\u001b[0m\u001b[1;33m]\u001b[0m \u001b[1;33m!=\u001b[0m \u001b[0msample_shape\u001b[0m\u001b[1;33m:\u001b[0m\u001b[1;33m\u001b[0m\u001b[1;33m\u001b[0m\u001b[0m\n\u001b[0;32m     98\u001b[0m             raise ValueError('Shape of sample %s of sequence at position %s '\n",
      "\u001b[1;32m~\\Anaconda3\\envs\\keras_env\\lib\\site-packages\\numpy\\core\\_asarray.py\u001b[0m in \u001b[0;36masarray\u001b[1;34m(a, dtype, order)\u001b[0m\n\u001b[0;32m     83\u001b[0m \u001b[1;33m\u001b[0m\u001b[0m\n\u001b[0;32m     84\u001b[0m     \"\"\"\n\u001b[1;32m---> 85\u001b[1;33m     \u001b[1;32mreturn\u001b[0m \u001b[0marray\u001b[0m\u001b[1;33m(\u001b[0m\u001b[0ma\u001b[0m\u001b[1;33m,\u001b[0m \u001b[0mdtype\u001b[0m\u001b[1;33m,\u001b[0m \u001b[0mcopy\u001b[0m\u001b[1;33m=\u001b[0m\u001b[1;32mFalse\u001b[0m\u001b[1;33m,\u001b[0m \u001b[0morder\u001b[0m\u001b[1;33m=\u001b[0m\u001b[0morder\u001b[0m\u001b[1;33m)\u001b[0m\u001b[1;33m\u001b[0m\u001b[1;33m\u001b[0m\u001b[0m\n\u001b[0m\u001b[0;32m     86\u001b[0m \u001b[1;33m\u001b[0m\u001b[0m\n\u001b[0;32m     87\u001b[0m \u001b[1;33m\u001b[0m\u001b[0m\n",
      "\u001b[1;31mValueError\u001b[0m: could not convert string to float: 'the'"
     ]
    }
   ],
   "source": [
    "# pad_sequences is only for 1D representations of words! That's why we can't use it with vectors\n",
    "padded = pad_sequences(x_list, maxlen=40, dtype='float32', padding='post')\n",
    "padded.shape"
   ]
  },
  {
   "cell_type": "code",
   "execution_count": null,
   "metadata": {
    "scrolled": true
   },
   "outputs": [],
   "source": [
    "padded[0][1]"
   ]
  },
  {
   "cell_type": "code",
   "execution_count": null,
   "metadata": {
    "scrolled": true
   },
   "outputs": [],
   "source": [
    "padded[0][-1]"
   ]
  },
  {
   "cell_type": "code",
   "execution_count": null,
   "metadata": {
    "scrolled": true
   },
   "outputs": [],
   "source": [
    "padded[0].shape"
   ]
  },
  {
   "cell_type": "code",
   "execution_count": null,
   "metadata": {
    "scrolled": false
   },
   "outputs": [],
   "source": [
    "for i in padded:\n",
    "    print(i.shape)\n",
    "x_arr = np.asarray(padded)\n",
    "y_arr = np.asarray(y_list)\n",
    "print(x_arr.shape)\n",
    "print(y_arr.shape)"
   ]
  },
  {
   "cell_type": "markdown",
   "metadata": {},
   "source": [
    "### A few of the things I tried that didn't work"
   ]
  },
  {
   "cell_type": "code",
   "execution_count": null,
   "metadata": {},
   "outputs": [],
   "source": [
    "def np_pad(sequences, shape):\n",
    "    padded = np.zeros(shape)\n",
    "    for s in sequences:\n",
    "        padded = np.zeros(shape)\n",
    "        padded[:s.shape[0],:s.shape[1]] = s"
   ]
  },
  {
   "cell_type": "code",
   "execution_count": null,
   "metadata": {},
   "outputs": [],
   "source": [
    "# for np.pad() you cannot specify a desired shape, it will always add a constant number of zeros\n",
    "for i in x_list:\n",
    "    i = np.pad(i, (25, 768), 'constant')\n",
    "    print(i.shape)"
   ]
  },
  {
   "cell_type": "code",
   "execution_count": null,
   "metadata": {},
   "outputs": [],
   "source": []
  }
 ],
 "metadata": {
  "kernelspec": {
   "display_name": "keras_env",
   "language": "python",
   "name": "keras_env"
  },
  "language_info": {
   "codemirror_mode": {
    "name": "ipython",
    "version": 3
   },
   "file_extension": ".py",
   "mimetype": "text/x-python",
   "name": "python",
   "nbconvert_exporter": "python",
   "pygments_lexer": "ipython3",
   "version": "3.6.7"
  }
 },
 "nbformat": 4,
 "nbformat_minor": 2
}
